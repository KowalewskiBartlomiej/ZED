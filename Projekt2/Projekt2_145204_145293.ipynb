{
  "nbformat": 4,
  "nbformat_minor": 0,
  "metadata": {
    "colab": {
      "provenance": [],
      "gpuType": "T4"
    },
    "kernelspec": {
      "name": "python3",
      "display_name": "Python 3"
    },
    "language_info": {
      "name": "python"
    },
    "accelerator": "GPU"
  },
  "cells": [
    {
      "cell_type": "markdown",
      "source": [
        "# Projekt 2\n",
        "## Klasyfikacja rodzaju scen filmowych\n",
        "### Mateusz Kozłowicz, 145293\n",
        "### Bartłomiej Kowalewski, 145204"
      ],
      "metadata": {
        "id": "3K-3GWaLFpoq"
      }
    },
    {
      "cell_type": "markdown",
      "source": [
        "## Cel projektu\n",
        "Celem projektu było przygotowanie modelu uczenia maszynowego dokonującego klasyfikacji rodzaju sceny na podstawie danych informacji."
      ],
      "metadata": {
        "id": "DGg2eEvpj-_h"
      }
    },
    {
      "cell_type": "markdown",
      "source": [
        "## 1. Setup, import wykorzystanych bibliotek"
      ],
      "metadata": {
        "id": "hLbwBohxGCyA"
      }
    },
    {
      "cell_type": "code",
      "source": [
        "import pandas as pd\n",
        "import numpy as np\n",
        "from sklearn.ensemble import RandomForestClassifier\n",
        "import matplotlib.pyplot as plt\n",
        "import random\n",
        "from pathlib import Path\n",
        "from sklearn.model_selection import GridSearchCV\n",
        "\n",
        "random.seed(23)\n",
        "np.random.seed(23)"
      ],
      "metadata": {
        "id": "6mJyCl3eF_g3"
      },
      "execution_count": null,
      "outputs": []
    },
    {
      "cell_type": "markdown",
      "source": [
        "## 2. Wczytanie danych\n",
        "Jako dane uczące przyjęliśmy foldery 'features' i 'scene_timestamps' zawierające informacje o danej scenie oraz folder 'lables' zawierający rodzaje scen przypisane do id danej sceny.\n",
        "\n",
        "Dostępne informacje w folderze 'features':\n",
        "\n",
        "*   s_dur - długość sceny\n",
        "*   n_shots - liczba ujęć\n",
        "*   ava_shot_dur - średni czas trwania ujęcia\n",
        "*   rel_id_loc - względna lokalizacja sceny\n",
        "*   rel_t_loc - względna lokalizacja czasowa\n",
        "*   ava_char_score - średni łączny czas wyświetlania postaci w scenie\n",
        "*   is_prot_appear - czy w scenie pojawia się protagonista\n",
        "\n",
        "Dostępne informacje w folderze 'scene_timestamps':\n",
        "*   start - czas rozpoczęcia sceny\n",
        "*   end - czas zakończenia sceny"
      ],
      "metadata": {
        "id": "YxjRvMXlH6Fy"
      }
    },
    {
      "cell_type": "code",
      "source": [
        "path = r'train'\n",
        "files = Path(path).glob('*.csv')"
      ],
      "metadata": {
        "id": "EOSzbwaXKndg"
      },
      "execution_count": null,
      "outputs": []
    },
    {
      "cell_type": "code",
      "source": [
        "dfs = list()\n",
        "for f in files:\n",
        "    data = pd.read_csv(f)\n",
        "    data['file'] = f.stem\n",
        "    dfs.append(data)\n",
        "\n",
        "train_df = pd.concat(dfs, ignore_index=True)\n",
        "train_df.columns.values[0] = \"scene_id\""
      ],
      "metadata": {
        "id": "vdek6PRkLDdC"
      },
      "execution_count": null,
      "outputs": []
    },
    {
      "cell_type": "code",
      "source": [
        "path = r'labels'\n",
        "files = Path(path).glob('*.csv')"
      ],
      "metadata": {
        "id": "qufpoteMJsgo"
      },
      "execution_count": null,
      "outputs": []
    },
    {
      "cell_type": "code",
      "source": [
        "dfs = list()\n",
        "for f in files:\n",
        "    data = pd.read_csv(f, na_filter= False)\n",
        "    data['file'] = f.stem\n",
        "    dfs.append(data)\n",
        "\n",
        "labels_df = pd.concat(dfs, ignore_index=True)\n",
        "labels_df.columns.values[0] = \"scene_id\"\n",
        "labels_df.columns.values[1] = \"label\""
      ],
      "metadata": {
        "id": "BMdEUPARNK5S"
      },
      "execution_count": null,
      "outputs": []
    },
    {
      "cell_type": "code",
      "source": [
        "path = r'test'\n",
        "files = Path(path).glob('*.csv')"
      ],
      "metadata": {
        "id": "nPNMcfZUQJdo"
      },
      "execution_count": null,
      "outputs": []
    },
    {
      "cell_type": "code",
      "source": [
        "dfs = list()\n",
        "for f in files:\n",
        "    data = pd.read_csv(f)\n",
        "    data['file'] = f.stem\n",
        "    dfs.append(data)\n",
        "\n",
        "test_df = pd.concat(dfs, ignore_index=True)\n",
        "test_df.columns.values[0] = \"scene_id\""
      ],
      "metadata": {
        "id": "VbNLmAjFQGaC"
      },
      "execution_count": null,
      "outputs": []
    },
    {
      "cell_type": "code",
      "source": [
        "path = r'scene_timestamps'\n",
        "files = Path(path).glob('*.csv')"
      ],
      "metadata": {
        "id": "OWCb0l9IpR8h"
      },
      "execution_count": null,
      "outputs": []
    },
    {
      "cell_type": "code",
      "source": [
        "dfs = list()\n",
        "for f in files:\n",
        "    data = pd.read_csv(f)\n",
        "    data['file'] = f.stem\n",
        "    dfs.append(data)\n",
        "\n",
        "scene_timestamps_df = pd.concat(dfs, ignore_index=True)\n",
        "scene_timestamps_df.columns.values[0] = \"scene_id\"\n",
        "scene_timestamps_df['file'] = scene_timestamps_df['file'].str.replace('_timestamps', '')"
      ],
      "metadata": {
        "id": "meiwNISXpUv7"
      },
      "execution_count": null,
      "outputs": []
    },
    {
      "cell_type": "code",
      "source": [
        "path = r'test_timestamps'\n",
        "files = Path(path).glob('*.csv')"
      ],
      "metadata": {
        "id": "QGTTocdxpWiB"
      },
      "execution_count": null,
      "outputs": []
    },
    {
      "cell_type": "code",
      "source": [
        "dfs = list()\n",
        "for f in files:\n",
        "    data = pd.read_csv(f)\n",
        "    data['file'] = f.stem\n",
        "    dfs.append(data)\n",
        "\n",
        "test_timestamps_df = pd.concat(dfs, ignore_index=True)\n",
        "test_timestamps_df.columns.values[0] = \"scene_id\"\n",
        "test_timestamps_df['file'] = test_timestamps_df['file'].str.replace('_timestamps', '')"
      ],
      "metadata": {
        "id": "RJLBsp09pXOG"
      },
      "execution_count": null,
      "outputs": []
    },
    {
      "cell_type": "code",
      "source": [
        "df = pd.merge(train_df, labels_df, on=['file', 'scene_id'])\n",
        "df = pd.merge(df, scene_timestamps_df, on=['file', 'scene_id'])"
      ],
      "metadata": {
        "id": "SA56ZqrCN5je"
      },
      "execution_count": null,
      "outputs": []
    },
    {
      "cell_type": "code",
      "source": [
        "test_df = pd.merge(test_df, test_timestamps_df, on=['file', 'scene_id'])"
      ],
      "metadata": {
        "id": "V8LBpN0dpa1r"
      },
      "execution_count": null,
      "outputs": []
    },
    {
      "cell_type": "markdown",
      "source": [
        "## 3. Przygotowanie modelu\n",
        "Wybraliśmy Random Forest jako nasz model do klasyfikacji, ponieważ potrafi on ocenić istotność poszczególnych cech podczas procesu uczenia. W celu dobrania najlepszych parametrów klasyfikatora przeprowadziliśmy GridSearch."
      ],
      "metadata": {
        "id": "nuWoqL1Njyw-"
      }
    },
    {
      "cell_type": "code",
      "source": [
        "X = df.drop(['label', 'file'], axis = 1)\n",
        "# X = df.drop(['label', 'file', 'scene_id'], axis = 1)\n",
        "# X = df.drop(['label', 'file', 'start', 'end'], axis = 1)\n",
        "# X = df.drop(['label', 'file', 'scene_id', 'start', 'end'], axis = 1)\n",
        "y = df['label']\n",
        "X_test = test_df.drop(['file'], axis = 1)\n",
        "# X_test = test_df.drop(['file', 'scene_id'], axis = 1)\n",
        "# X_test = test_df.drop(['file', 'start', 'end'], axis = 1)\n",
        "# X_test = test_df.drop(['file', 'scene_id', 'start', 'end'], axis = 1)"
      ],
      "metadata": {
        "id": "Sr3oOQmaO7jW"
      },
      "execution_count": null,
      "outputs": []
    },
    {
      "cell_type": "code",
      "source": [
        "forest = RandomForestClassifier(criterion=\"gini\")\n",
        "parameters = {'max_depth': [5, 6, 7, 8, 9, 10], 'n_estimators': [20, 25, 26, 27, 28, 29, 30, 31, 32, 33, 34, 35, 36, 37, 38, 39, 40, 41, 42, 43, 44, 45]}\n",
        "rf = GridSearchCV(forest, parameters, cv=5)\n",
        "rf.fit(X, y)"
      ],
      "metadata": {
        "colab": {
          "base_uri": "https://localhost:8080/",
          "height": 118
        },
        "id": "7hsegFwQPwJS",
        "outputId": "51b3bdfd-3484-49fc-f4d2-dd03199833ff"
      },
      "execution_count": null,
      "outputs": [
        {
          "output_type": "execute_result",
          "data": {
            "text/plain": [
              "GridSearchCV(cv=5, estimator=RandomForestClassifier(),\n",
              "             param_grid={'max_depth': [5, 6, 7, 8, 9, 10],\n",
              "                         'n_estimators': [20, 25, 26, 27, 28, 29, 30, 31, 32,\n",
              "                                          33, 34, 35, 36, 37, 38, 39, 40, 41,\n",
              "                                          42, 43, 44, 45]})"
            ],
            "text/html": [
              "<style>#sk-container-id-3 {color: black;background-color: white;}#sk-container-id-3 pre{padding: 0;}#sk-container-id-3 div.sk-toggleable {background-color: white;}#sk-container-id-3 label.sk-toggleable__label {cursor: pointer;display: block;width: 100%;margin-bottom: 0;padding: 0.3em;box-sizing: border-box;text-align: center;}#sk-container-id-3 label.sk-toggleable__label-arrow:before {content: \"▸\";float: left;margin-right: 0.25em;color: #696969;}#sk-container-id-3 label.sk-toggleable__label-arrow:hover:before {color: black;}#sk-container-id-3 div.sk-estimator:hover label.sk-toggleable__label-arrow:before {color: black;}#sk-container-id-3 div.sk-toggleable__content {max-height: 0;max-width: 0;overflow: hidden;text-align: left;background-color: #f0f8ff;}#sk-container-id-3 div.sk-toggleable__content pre {margin: 0.2em;color: black;border-radius: 0.25em;background-color: #f0f8ff;}#sk-container-id-3 input.sk-toggleable__control:checked~div.sk-toggleable__content {max-height: 200px;max-width: 100%;overflow: auto;}#sk-container-id-3 input.sk-toggleable__control:checked~label.sk-toggleable__label-arrow:before {content: \"▾\";}#sk-container-id-3 div.sk-estimator input.sk-toggleable__control:checked~label.sk-toggleable__label {background-color: #d4ebff;}#sk-container-id-3 div.sk-label input.sk-toggleable__control:checked~label.sk-toggleable__label {background-color: #d4ebff;}#sk-container-id-3 input.sk-hidden--visually {border: 0;clip: rect(1px 1px 1px 1px);clip: rect(1px, 1px, 1px, 1px);height: 1px;margin: -1px;overflow: hidden;padding: 0;position: absolute;width: 1px;}#sk-container-id-3 div.sk-estimator {font-family: monospace;background-color: #f0f8ff;border: 1px dotted black;border-radius: 0.25em;box-sizing: border-box;margin-bottom: 0.5em;}#sk-container-id-3 div.sk-estimator:hover {background-color: #d4ebff;}#sk-container-id-3 div.sk-parallel-item::after {content: \"\";width: 100%;border-bottom: 1px solid gray;flex-grow: 1;}#sk-container-id-3 div.sk-label:hover label.sk-toggleable__label {background-color: #d4ebff;}#sk-container-id-3 div.sk-serial::before {content: \"\";position: absolute;border-left: 1px solid gray;box-sizing: border-box;top: 0;bottom: 0;left: 50%;z-index: 0;}#sk-container-id-3 div.sk-serial {display: flex;flex-direction: column;align-items: center;background-color: white;padding-right: 0.2em;padding-left: 0.2em;position: relative;}#sk-container-id-3 div.sk-item {position: relative;z-index: 1;}#sk-container-id-3 div.sk-parallel {display: flex;align-items: stretch;justify-content: center;background-color: white;position: relative;}#sk-container-id-3 div.sk-item::before, #sk-container-id-3 div.sk-parallel-item::before {content: \"\";position: absolute;border-left: 1px solid gray;box-sizing: border-box;top: 0;bottom: 0;left: 50%;z-index: -1;}#sk-container-id-3 div.sk-parallel-item {display: flex;flex-direction: column;z-index: 1;position: relative;background-color: white;}#sk-container-id-3 div.sk-parallel-item:first-child::after {align-self: flex-end;width: 50%;}#sk-container-id-3 div.sk-parallel-item:last-child::after {align-self: flex-start;width: 50%;}#sk-container-id-3 div.sk-parallel-item:only-child::after {width: 0;}#sk-container-id-3 div.sk-dashed-wrapped {border: 1px dashed gray;margin: 0 0.4em 0.5em 0.4em;box-sizing: border-box;padding-bottom: 0.4em;background-color: white;}#sk-container-id-3 div.sk-label label {font-family: monospace;font-weight: bold;display: inline-block;line-height: 1.2em;}#sk-container-id-3 div.sk-label-container {text-align: center;}#sk-container-id-3 div.sk-container {/* jupyter's `normalize.less` sets `[hidden] { display: none; }` but bootstrap.min.css set `[hidden] { display: none !important; }` so we also need the `!important` here to be able to override the default hidden behavior on the sphinx rendered scikit-learn.org. See: https://github.com/scikit-learn/scikit-learn/issues/21755 */display: inline-block !important;position: relative;}#sk-container-id-3 div.sk-text-repr-fallback {display: none;}</style><div id=\"sk-container-id-3\" class=\"sk-top-container\"><div class=\"sk-text-repr-fallback\"><pre>GridSearchCV(cv=5, estimator=RandomForestClassifier(),\n",
              "             param_grid={&#x27;max_depth&#x27;: [5, 6, 7, 8, 9, 10],\n",
              "                         &#x27;n_estimators&#x27;: [20, 25, 26, 27, 28, 29, 30, 31, 32,\n",
              "                                          33, 34, 35, 36, 37, 38, 39, 40, 41,\n",
              "                                          42, 43, 44, 45]})</pre><b>In a Jupyter environment, please rerun this cell to show the HTML representation or trust the notebook. <br />On GitHub, the HTML representation is unable to render, please try loading this page with nbviewer.org.</b></div><div class=\"sk-container\" hidden><div class=\"sk-item sk-dashed-wrapped\"><div class=\"sk-label-container\"><div class=\"sk-label sk-toggleable\"><input class=\"sk-toggleable__control sk-hidden--visually\" id=\"sk-estimator-id-7\" type=\"checkbox\" ><label for=\"sk-estimator-id-7\" class=\"sk-toggleable__label sk-toggleable__label-arrow\">GridSearchCV</label><div class=\"sk-toggleable__content\"><pre>GridSearchCV(cv=5, estimator=RandomForestClassifier(),\n",
              "             param_grid={&#x27;max_depth&#x27;: [5, 6, 7, 8, 9, 10],\n",
              "                         &#x27;n_estimators&#x27;: [20, 25, 26, 27, 28, 29, 30, 31, 32,\n",
              "                                          33, 34, 35, 36, 37, 38, 39, 40, 41,\n",
              "                                          42, 43, 44, 45]})</pre></div></div></div><div class=\"sk-parallel\"><div class=\"sk-parallel-item\"><div class=\"sk-item\"><div class=\"sk-label-container\"><div class=\"sk-label sk-toggleable\"><input class=\"sk-toggleable__control sk-hidden--visually\" id=\"sk-estimator-id-8\" type=\"checkbox\" ><label for=\"sk-estimator-id-8\" class=\"sk-toggleable__label sk-toggleable__label-arrow\">estimator: RandomForestClassifier</label><div class=\"sk-toggleable__content\"><pre>RandomForestClassifier()</pre></div></div></div><div class=\"sk-serial\"><div class=\"sk-item\"><div class=\"sk-estimator sk-toggleable\"><input class=\"sk-toggleable__control sk-hidden--visually\" id=\"sk-estimator-id-9\" type=\"checkbox\" ><label for=\"sk-estimator-id-9\" class=\"sk-toggleable__label sk-toggleable__label-arrow\">RandomForestClassifier</label><div class=\"sk-toggleable__content\"><pre>RandomForestClassifier()</pre></div></div></div></div></div></div></div></div></div></div>"
            ]
          },
          "metadata": {},
          "execution_count": 58
        }
      ]
    },
    {
      "cell_type": "markdown",
      "source": [
        "Wykres istotności cech:"
      ],
      "metadata": {
        "id": "G2jmwcwPDPeB"
      }
    },
    {
      "cell_type": "code",
      "source": [
        "importances = rf.best_estimator_.feature_importances_\n",
        "std = np.std([tree.feature_importances_ for tree in rf.best_estimator_.estimators_], axis=0)\n",
        "forest_importances = pd.Series(importances, index=X.columns)\n",
        "\n",
        "fig, ax = plt.subplots()\n",
        "forest_importances.plot.bar(yerr=std, ax=ax)\n",
        "ax.set_title(\"Feature importances using MDI\")\n",
        "ax.set_ylabel(\"Mean decrease in impurity\")\n",
        "fig.tight_layout()"
      ],
      "metadata": {
        "id": "me2LVUlg77He",
        "colab": {
          "base_uri": "https://localhost:8080/",
          "height": 486
        },
        "outputId": "1a098cda-aa68-4548-c916-24372e598706"
      },
      "execution_count": null,
      "outputs": [
        {
          "output_type": "display_data",
          "data": {
            "text/plain": [
              "<Figure size 640x480 with 1 Axes>"
            ],
            "image/png": "[encoded data removed]"
          },
          "metadata": {}
        }
      ]
    },
    {
      "cell_type": "markdown",
      "source": [
        "## 4. Wyniki"
      ],
      "metadata": {
        "id": "MEaLqMn0ob-3"
      }
    },
    {
      "cell_type": "code",
      "source": [
        "print('Best Estimator: ', rf.best_estimator_)\n",
        "print('Best Score: ',rf.best_score_)\n",
        "print('Best Parameters: ', rf.best_params_)"
      ],
      "metadata": {
        "colab": {
          "base_uri": "https://localhost:8080/"
        },
        "id": "RZ8T5NoHSIxj",
        "outputId": "82e63a8a-2437-490b-b302-3a167110bbc6"
      },
      "execution_count": null,
      "outputs": [
        {
          "output_type": "stream",
          "name": "stdout",
          "text": [
            "Best Estimator:  RandomForestClassifier(max_depth=5, n_estimators=40)\n",
            "Best Score:  0.5067911886476407\n",
            "Best Parameters:  {'max_depth': 5, 'n_estimators': 40}\n"
          ]
        }
      ]
    },
    {
      "cell_type": "code",
      "source": [
        "y_pred = rf.predict(X_test)"
      ],
      "metadata": {
        "id": "nSTu86LEQ-5k"
      },
      "execution_count": null,
      "outputs": []
    },
    {
      "cell_type": "code",
      "source": [
        "test_df['label'] = y_pred"
      ],
      "metadata": {
        "id": "NV6afTuZRGPX"
      },
      "execution_count": null,
      "outputs": []
    },
    {
      "cell_type": "markdown",
      "source": [
        "## 5. Zapis do pliku CSV"
      ],
      "metadata": {
        "id": "bZuqXBYOohKN"
      }
    },
    {
      "cell_type": "code",
      "source": [
        "submission_csv = pd.DataFrame()\n",
        "submission_csv['Id'] = test_df['file'].str.slice(0,9) + \"_\" + test_df['scene_id'].astype(str)\n",
        "submission_csv['Label'] = test_df['label']\n",
        "submission_csv['movie_id'] = submission_csv['Id'].str.slice(2,9).astype(int)\n",
        "submission_csv['scene_id'] = submission_csv['Id'].str.slice(10,).astype(int)\n",
        "submission_csv.sort_values(by=['movie_id', 'scene_id'], inplace = True)\n",
        "submission_csv.drop(['movie_id', 'scene_id'], axis=1).to_csv('rfc_submission_timestamps.csv', index=False)\n",
        "# submission_csv.sort_values(by=['Id'], key=lambda s: s.str[2:8].astype(int), inplace = True)"
      ],
      "metadata": {
        "id": "BtL2zIffUoev"
      },
      "execution_count": null,
      "outputs": []
    }
  ]
}